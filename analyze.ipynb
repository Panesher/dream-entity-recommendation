{
 "cells": [
  {
   "cell_type": "code",
   "execution_count": 86,
   "metadata": {
    "cellId": "ith5m8n3l8biiy3jlosp6",
    "collapsed": false,
    "jupyter": {
     "outputs_hidden": false
    }
   },
   "outputs": [],
   "source": [
    "#!g1.1\n",
    "from config import config\n",
    "import pickle\n",
    "with open(config['wikidata']['transe'], \"rb\") as f:\n",
    "    transe = pickle.load(f)\n",
    "import json\n",
    "with open(config['dataset']['postprocess']['train'], 'r') as f:\n",
    "    el_single_results = json.load(f)"
   ]
  },
  {
   "cell_type": "code",
   "execution_count": 87,
   "metadata": {
    "cellId": "34mtsiigo0gvchguwr0zu",
    "collapsed": false,
    "jupyter": {
     "outputs_hidden": false
    }
   },
   "outputs": [],
   "source": [
    "#!g1.1\n",
    "%load_ext autoreload\n",
    "%autoreload 2\n",
    "from model_utils.thswad import THWADModel, load_model_from_transe\n",
    "from model_utils.trainer import THSWADTrainer\n",
    "from utils.ds import *"
   ]
  },
  {
   "cell_type": "code",
   "execution_count": 3,
   "metadata": {
    "cellId": "2ehcdp1wyjtfu8oglgcqo9",
    "collapsed": false,
    "jupyter": {
     "outputs_hidden": false
    }
   },
   "outputs": [
    {
     "name": "stderr",
     "output_type": "stream",
     "text": [
      "/home/jupyter/work/resources/dream-entity-recommendation/utils/ds.py:64: FutureWarning: elementwise comparison failed; returning scalar instead, but in the future will perform elementwise comparison\n",
      "  if np.all(np.array(prev) == pad_item):\n"
     ]
    },
    {
     "data": {
      "text/plain": [
       "(array([3177, 3177, 3177, 3177,    0]), 1)"
      ]
     },
     "execution_count": 3,
     "metadata": {},
     "output_type": "execute_result"
    }
   ],
   "source": [
    "#!g1.1\n",
    "ds_ = DialogDataset(el_single_results['entity_ids'], 'pad', 5)\n",
    "items2id = {}\n",
    "for i, (prev, next_id) in enumerate(ds_):\n",
    "    for item in prev:\n",
    "        if item not in items2id and item != 'pad':\n",
    "            items2id[item] = len(items2id)\n",
    "    if next_id not in items2id and next_id != 'pad':\n",
    "        items2id[next_id] = len(items2id)\n",
    "id2items = list(items2id.keys())\n",
    "ds = DialogDataset(el_single_results['entity_ids'], len(items2id), 5, items2id)\n",
    "ds[0]"
   ]
  },
  {
   "cell_type": "code",
   "execution_count": 20,
   "metadata": {
    "cellId": "q3jrq499hckoouxm9c8exg"
   },
   "outputs": [],
   "source": [
    "#!g1.1\n",
    "wds = load_wiki_dataset(config['wikidata']['dataset']['train'], transe.graph)"
   ]
  },
  {
   "cell_type": "code",
   "execution_count": 21,
   "metadata": {
    "cellId": "blwp3whbemeq4l303ana9d",
    "collapsed": false,
    "jupyter": {
     "outputs_hidden": false
    }
   },
   "outputs": [],
   "source": [
    "#!g1.1\n",
    "from torch.utils.data import DataLoader\n",
    "\n",
    "BS = 256\n",
    "\n",
    "dl = DataLoader(ds, batch_size=BS, shuffle=False)\n",
    "wdl = DataLoader(wds, batch_size=BS, shuffle=False)\n",
    "train_loader = TSHWADLoader(wdl, dl)"
   ]
  },
  {
   "cell_type": "code",
   "execution_count": 88,
   "metadata": {
    "cellId": "oew003v3fc5jqgecqxoq",
    "collapsed": false,
    "jupyter": {
     "outputs_hidden": false
    }
   },
   "outputs": [
    {
     "ename": "NameError",
     "evalue": "name 'id2items' is not defined",
     "output_type": "error",
     "traceback": [
      "\u001b[0;31m---------------------------------------------------------------------------\u001b[0m",
      "\u001b[0;31mNameError\u001b[0m                                 Traceback (most recent call last)",
      "\u001b[0;32m<ipython-input-6-250cf4c0b1b1>\u001b[0m in \u001b[0;36m<module>\u001b[0;34m\u001b[0m\n\u001b[0;32m----> 1\u001b[0;31m \u001b[0mmodel\u001b[0m \u001b[0;34m=\u001b[0m \u001b[0mload_model_from_transe\u001b[0m\u001b[0;34m(\u001b[0m\u001b[0mtranse\u001b[0m\u001b[0;34m,\u001b[0m \u001b[0mid2items\u001b[0m\u001b[0;34m,\u001b[0m \u001b[0mprev_items_total\u001b[0m\u001b[0;34m=\u001b[0m\u001b[0;36m5\u001b[0m\u001b[0;34m)\u001b[0m\u001b[0;34m\u001b[0m\u001b[0;34m\u001b[0m\u001b[0m\n\u001b[0m\u001b[1;32m      2\u001b[0m \u001b[0mmodel\u001b[0m\u001b[0;34m.\u001b[0m\u001b[0mload\u001b[0m\u001b[0;34m(\u001b[0m\u001b[0;34m'model_checkpoints/model.pt'\u001b[0m\u001b[0;34m)\u001b[0m\u001b[0;34m\u001b[0m\u001b[0;34m\u001b[0m\u001b[0m\n\u001b[1;32m      3\u001b[0m \u001b[0;31m#\u001b[0m\u001b[0;34m\u001b[0m\u001b[0;34m\u001b[0m\u001b[0;34m\u001b[0m\u001b[0m\n",
      "\u001b[0;31mNameError\u001b[0m: name 'id2items' is not defined"
     ]
    }
   ],
   "source": [
    "#!g1.1\n",
    "model = load_model_from_transe(transe, id2items, prev_items_total=5)\n",
    "model.load('model_checkpoints/model.pt')"
   ]
  },
  {
   "cell_type": "code",
   "execution_count": 22,
   "metadata": {
    "cellId": "m5r2gvdiohvfrmaxrmap",
    "collapsed": false,
    "jupyter": {
     "outputs_hidden": false
    }
   },
   "outputs": [],
   "source": [
    "#!g1.1\n",
    "opt = torch.optim.Adam(model.parameters(), lr=0.001)\n",
    "scheduler = torch.optim.lr_scheduler.StepLR(opt, 1, gamma=0.9)\n",
    "\n",
    "trainer = THSWADTrainer(\n",
    "    margin=1.,\n",
    "    norm_lambda=1.,\n",
    "    clipping_max_value=1.,\n",
    "    model_target=1.,\n",
    "    kg_lambda=.4,\n",
    "    model=model,\n",
    "    optimizer=opt,\n",
    "    scheduler=scheduler,\n",
    "    train_data_loader=train_loader,\n",
    "    val_data_loader=train_loader,\n",
    "    test_data_loader=train_loader,\n",
    "    verbose=False,\n",
    ")"
   ]
  },
  {
   "cell_type": "code",
   "execution_count": 23,
   "metadata": {
    "cellId": "w2xlbtlzazdtj73hkge3np",
    "collapsed": false,
    "execution_id": "2b556693-5b16-44e9-beda-1f487c46c77c",
    "jupyter": {
     "outputs_hidden": false
    }
   },
   "outputs": [
    {
     "name": "stderr",
     "output_type": "stream",
     "text": [
      "Training:  99%|█████████▉| 158870/160794 [19:18<00:14, 137.08it/s]\n"
     ]
    }
   ],
   "source": [
    "#!g1.1\n",
    "trainer.train(5)"
   ]
  },
  {
   "cell_type": "code",
   "execution_count": 24,
   "metadata": {
    "cellId": "k64h5367ayj5800sypfo",
    "collapsed": false,
    "execution_id": "fc0a04cb-8a74-44fc-8d88-ca4a77486867",
    "jupyter": {
     "outputs_hidden": false
    }
   },
   "outputs": [
    {
     "name": "stderr",
     "output_type": "stream",
     "text": [
      "Validating:  99%|█████████▉| 158870/160794 [5:18:32<03:51,  8.31it/s]\n"
     ]
    },
    {
     "data": {
      "text/plain": [
       "{'accuracy': tensor(0.0033, device='cuda:0')}"
      ]
     },
     "execution_count": 24,
     "metadata": {},
     "output_type": "execute_result"
    }
   ],
   "source": [
    "#!g1.1\n",
    "BS = 32\n",
    "\n",
    "dl_v = DataLoader(ds, batch_size=BS, shuffle=False)\n",
    "wdl_v = DataLoader([], batch_size=BS, shuffle=False)\n",
    "val_loader = TSHWADLoader(wdl, dl)\n",
    "\n",
    "trainer.test(val_loader)"
   ]
  },
  {
   "cell_type": "code",
   "execution_count": null,
   "metadata": {
    "cellId": "slzgp6hpf5lhoanolm3okj"
   },
   "outputs": [],
   "source": [
    "#!g1.1\n",
    "model.prev_meaner"
   ]
  },
  {
   "cell_type": "code",
   "execution_count": null,
   "metadata": {
    "cellId": "jrjs3kb896tmw7wmbz9xi"
   },
   "outputs": [],
   "source": [
    "#!g1.1\n",
    "len(model.item2entity)"
   ]
  },
  {
   "cell_type": "code",
   "execution_count": 20,
   "metadata": {
    "cellId": "obgi9m3wt9isszuhrcuh6i"
   },
   "outputs": [],
   "source": [
    "#!g1.1\n",
    "! head -n 1000000 dataset/wikidata5m_transductive_train.txt > dataset/wikidata5m_transductive_train_head.txt"
   ]
  },
  {
   "cell_type": "code",
   "execution_count": null,
   "metadata": {
    "cellId": "teb5g3qhh3xmp0aznskpd"
   },
   "outputs": [],
   "source": [
    "#!g1.1\n"
   ]
  }
 ],
 "metadata": {
  "language_info": {
   "codemirror_mode": {
    "name": "ipython",
    "version": 3
   },
   "file_extension": ".py",
   "mimetype": "text/x-python",
   "name": "python",
   "nbconvert_exporter": "python",
   "pygments_lexer": "ipython3",
   "version": "3.7.7"
  },
  "notebookId": "ef3fef9c-2c01-42dd-9341-dc23df0e9854",
  "notebookPath": "dream-entity-recommendation/analyze.ipynb"
 },
 "nbformat": 4,
 "nbformat_minor": 4
}
