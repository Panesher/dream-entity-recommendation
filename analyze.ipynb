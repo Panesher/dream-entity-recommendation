{
 "cells": [
  {
   "cell_type": "code",
   "execution_count": 1,
   "outputs": [],
   "source": [
    "from config import config"
   ],
   "metadata": {
    "collapsed": false
   }
  },
  {
   "cell_type": "code",
   "execution_count": 2,
   "outputs": [],
   "source": [
    "%load_ext autoreload\n",
    "%autoreload 2\n",
    "from model_utils.thswad import THWADModel, load_model_from_transe\n",
    "from model_utils.trainer import THSWADTrainer\n",
    "from utils.ds import *"
   ],
   "metadata": {
    "collapsed": false
   }
  },
  {
   "cell_type": "code",
   "execution_count": 3,
   "outputs": [],
   "source": [
    "import pickle\n",
    "with open(config['wikidata']['transe'], \"rb\") as f:\n",
    "    transe = pickle.load(f)\n"
   ],
   "metadata": {
    "collapsed": false
   }
  },
  {
   "cell_type": "code",
   "execution_count": 4,
   "outputs": [],
   "source": [
    "import json\n",
    "with open('dataset/el_single_results_test.json', 'r') as f:\n",
    "    el_single_results = json.load(f)"
   ],
   "metadata": {
    "collapsed": false
   }
  },
  {
   "cell_type": "code",
   "execution_count": 5,
   "outputs": [
    {
     "name": "stderr",
     "output_type": "stream",
     "text": [
      "/Users/panesher/code/dream-entity-recommendation/utils/ds.py:64: FutureWarning: elementwise comparison failed; returning scalar instead, but in the future will perform elementwise comparison\n",
      "  if np.all(np.array(prev) == pad_item):\n"
     ]
    },
    {
     "data": {
      "text/plain": "(array([574, 574, 574, 574,   0]), 1)"
     },
     "execution_count": 5,
     "metadata": {},
     "output_type": "execute_result"
    }
   ],
   "source": [
    "ds_ = DialogDataset(el_single_results['entity_ids'], 'pad', 5)\n",
    "items2id = {}\n",
    "for i, (prev, next_id) in enumerate(ds_):\n",
    "    for item in prev:\n",
    "        if item not in items2id and item != 'pad':\n",
    "            items2id[item] = len(items2id)\n",
    "    if next_id not in items2id and next_id != 'pad':\n",
    "        items2id[next_id] = len(items2id)\n",
    "id2items = list(items2id.keys())\n",
    "ds = DialogDataset(el_single_results['entity_ids'], len(items2id), 5, items2id)\n",
    "ds[0]"
   ],
   "metadata": {
    "collapsed": false
   }
  },
  {
   "cell_type": "code",
   "execution_count": 6,
   "outputs": [
    {
     "data": {
      "text/plain": "tensor([574, 574, 574, 574,   0])"
     },
     "execution_count": 6,
     "metadata": {},
     "output_type": "execute_result"
    }
   ],
   "source": [
    "from torch.utils.data import DataLoader\n",
    "\n",
    "dl = DataLoader(ds, batch_size=5, shuffle=False)\n",
    "for x in dl:\n",
    "    break\n",
    "x[0][0]"
   ],
   "metadata": {
    "collapsed": false
   }
  },
  {
   "cell_type": "code",
   "execution_count": 7,
   "outputs": [
    {
     "name": "stdout",
     "output_type": "stream",
     "text": [
      "144 triplets were removed from dataset/wikidata5m_transductive_test.txt\n"
     ]
    },
    {
     "data": {
      "text/plain": "4989"
     },
     "execution_count": 7,
     "metadata": {},
     "output_type": "execute_result"
    }
   ],
   "source": [
    "wds = load_wiki_dataset(config['wikidata']['dataset']['test'], transe.graph)\n",
    "len(wds)"
   ],
   "metadata": {
    "collapsed": false
   }
  },
  {
   "cell_type": "code",
   "execution_count": 8,
   "outputs": [],
   "source": [
    "wdl = DataLoader(wds, batch_size=5, shuffle=False)"
   ],
   "metadata": {
    "collapsed": false
   }
  },
  {
   "cell_type": "code",
   "execution_count": 9,
   "outputs": [],
   "source": [
    "model = load_model_from_transe(transe, id2items, prev_items_total=5)"
   ],
   "metadata": {
    "collapsed": false
   }
  },
  {
   "cell_type": "code",
   "execution_count": 12,
   "outputs": [],
   "source": [
    "loader = TSHWADLoader(wdl, dl)"
   ],
   "metadata": {
    "collapsed": false
   }
  },
  {
   "cell_type": "code",
   "execution_count": 13,
   "outputs": [],
   "source": [
    "opt = torch.optim.Adam(model.parameters(), lr=0.001)\n",
    "scheduler = torch.optim.lr_scheduler.StepLR(opt, 1, gamma=0.9)\n",
    "\n",
    "trainer = THSWADTrainer(\n",
    "    margin=1.,\n",
    "    norm_lambda=1.,\n",
    "    clipping_max_value=1.,\n",
    "    model_target=1.,\n",
    "    kg_lambda=1.,\n",
    "    model=model,\n",
    "    optimizer=opt,\n",
    "    scheduler=scheduler,\n",
    "    train_data_loader=loader,\n",
    "    val_data_loader=loader,\n",
    "    test_data_loader=loader,\n",
    "    verbose=False,\n",
    ")"
   ],
   "metadata": {
    "collapsed": false
   }
  },
  {
   "cell_type": "code",
   "execution_count": 22,
   "outputs": [
    {
     "name": "stderr",
     "output_type": "stream",
     "text": [
      "Training: 100%|█████████▉| 1986/1991 [00:13<00:00, 145.40it/s]\n",
      "Training: 100%|█████████▉| 1986/1991 [00:13<00:00, 146.28it/s]\n"
     ]
    }
   ],
   "source": [
    "trainer.train(2)"
   ],
   "metadata": {
    "collapsed": false
   }
  },
  {
   "cell_type": "code",
   "execution_count": 23,
   "outputs": [
    {
     "name": "stderr",
     "output_type": "stream",
     "text": [
      "Validating: 100%|█████████▉| 1986/1991 [00:10<00:00, 185.91it/s]\n"
     ]
    },
    {
     "data": {
      "text/plain": "{'accuracy': tensor(0.0040)}"
     },
     "execution_count": 23,
     "metadata": {},
     "output_type": "execute_result"
    }
   ],
   "source": [
    "trainer.test(loader)"
   ],
   "metadata": {
    "collapsed": false
   }
  },
  {
   "cell_type": "code",
   "execution_count": null,
   "outputs": [],
   "source": [],
   "metadata": {
    "collapsed": false
   }
  }
 ],
 "metadata": {
  "kernelspec": {
   "display_name": "Python 3",
   "language": "python",
   "name": "python3"
  },
  "language_info": {
   "codemirror_mode": {
    "name": "ipython",
    "version": 2
   },
   "file_extension": ".py",
   "mimetype": "text/x-python",
   "name": "python",
   "nbconvert_exporter": "python",
   "pygments_lexer": "ipython2",
   "version": "2.7.6"
  }
 },
 "nbformat": 4,
 "nbformat_minor": 0
}
