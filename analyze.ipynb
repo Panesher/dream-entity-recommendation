{
 "cells": [
  {
   "cell_type": "code",
   "execution_count": 1,
   "metadata": {
    "cellId": "ith5m8n3l8biiy3jlosp6",
    "collapsed": false,
    "jupyter": {
     "outputs_hidden": false
    }
   },
   "outputs": [],
   "source": [
    "#!g1.1\n",
    "from config import config\n",
    "import pickle\n",
    "import json\n",
    "\n",
    "with open(config['dataset']['postprocess']['train'], 'r') as f:\n",
    "    el_single_results = json.load(f)\n",
    "# with open(config['wikidata']['transe'], \"rb\") as f:\n",
    "#     transe = pickle.load(f)"
   ]
  },
  {
   "cell_type": "code",
   "execution_count": 2,
   "metadata": {
    "cellId": "34mtsiigo0gvchguwr0zu",
    "collapsed": false,
    "jupyter": {
     "outputs_hidden": false
    }
   },
   "outputs": [
    {
     "name": "stderr",
     "output_type": "stream",
     "text": [
      "/usr/local/lib/python3.8/dist-packages/tqdm/auto.py:22: TqdmWarning: IProgress not found. Please update jupyter and ipywidgets. See https://ipywidgets.readthedocs.io/en/stable/user_install.html\n",
      "  from .autonotebook import tqdm as notebook_tqdm\n",
      "/usr/lib/python3/dist-packages/requests/__init__.py:89: RequestsDependencyWarning: urllib3 (1.26.15) or chardet (3.0.4) doesn't match a supported version!\n",
      "  warnings.warn(\"urllib3 ({}) or chardet ({}) doesn't match a supported \"\n"
     ]
    }
   ],
   "source": [
    "#!g1.1\n",
    "%load_ext autoreload\n",
    "%autoreload 2\n",
    "from model_utils.thswad import THWADModel, load_model_from_transe\n",
    "from model_utils.trainer import THSWADTrainer\n",
    "from utils.ds import *"
   ]
  },
  {
   "cell_type": "code",
   "execution_count": 3,
   "metadata": {
    "cellId": "2ehcdp1wyjtfu8oglgcqo9",
    "collapsed": false,
    "jupyter": {
     "outputs_hidden": false
    }
   },
   "outputs": [
    {
     "name": "stderr",
     "output_type": "stream",
     "text": [
      "/home/admin/dream-entity-recommendation/utils/ds.py:64: FutureWarning: elementwise comparison failed; returning scalar instead, but in the future will perform elementwise comparison\n",
      "  if np.all(np.array(prev) == pad_item):\n"
     ]
    },
    {
     "data": {
      "text/plain": [
       "(array([8157, 8157, 8157, 8157,    0]), 1)"
      ]
     },
     "execution_count": 3,
     "metadata": {},
     "output_type": "execute_result"
    }
   ],
   "source": [
    "#!g1.1\n",
    "ds_ = DialogDataset(el_single_results['entity_ids'], 'pad', 5)\n",
    "items2id = {}\n",
    "for i, (prev, next_id) in enumerate(ds_):\n",
    "    for item in prev:\n",
    "        if item not in items2id and item != 'pad':\n",
    "            items2id[item] = len(items2id)\n",
    "    if next_id not in items2id and next_id != 'pad':\n",
    "        items2id[next_id] = len(items2id)\n",
    "id2items = list(items2id.keys())\n",
    "ds = DialogDataset(el_single_results['entity_ids'], len(items2id), 5, items2id)\n",
    "ds[0]"
   ]
  },
  {
   "cell_type": "code",
   "execution_count": 4,
   "metadata": {},
   "outputs": [
    {
     "name": "stdout",
     "output_type": "stream",
     "text": [
      "start ent emb\n",
      "end ent emb\n"
     ]
    }
   ],
   "source": [
    "def optimized_transe_load():\n",
    "    with open(config['wikidata']['transe'], \"rb\") as f:\n",
    "        transe = pickle.load(f)\n",
    "    return load_model_from_transe(transe, id2items, prev_items_total=5), transe.graph\n",
    "\n",
    "\n",
    "model, graph = optimized_transe_load()"
   ]
  },
  {
   "cell_type": "code",
   "execution_count": 5,
   "metadata": {
    "cellId": "q3jrq499hckoouxm9c8exg"
   },
   "outputs": [],
   "source": [
    "#!g1.1\n",
    "wds = load_wiki_dataset(config['wikidata']['dataset']['train'], graph)"
   ]
  },
  {
   "cell_type": "code",
   "execution_count": 6,
   "metadata": {
    "cellId": "blwp3whbemeq4l303ana9d",
    "collapsed": false,
    "jupyter": {
     "outputs_hidden": false
    }
   },
   "outputs": [],
   "source": [
    "#!g1.1\n",
    "from torch.utils.data import DataLoader\n",
    "\n",
    "BS = 256\n",
    "\n",
    "dl = DataLoader(ds, batch_size=BS, shuffle=False)\n",
    "wdl = DataLoader(wds, batch_size=BS, shuffle=False)\n",
    "train_loader = TSHWADLoader(wdl, dl)"
   ]
  },
  {
   "cell_type": "code",
   "execution_count": 7,
   "metadata": {
    "cellId": "oew003v3fc5jqgecqxoq",
    "collapsed": false,
    "jupyter": {
     "outputs_hidden": false
    }
   },
   "outputs": [],
   "source": [
    "#!g1.1\n",
    "# model = load_model_from_transe(transe, id2items, prev_items_total=5)\n",
    "# model.load('model_checkpoints/model.pt')"
   ]
  },
  {
   "cell_type": "code",
   "execution_count": 8,
   "metadata": {
    "cellId": "m5r2gvdiohvfrmaxrmap",
    "collapsed": false,
    "jupyter": {
     "outputs_hidden": false
    }
   },
   "outputs": [],
   "source": [
    "#!g1.1\n",
    "opt = torch.optim.Adam(model.parameters(), lr=0.001)\n",
    "scheduler = torch.optim.lr_scheduler.StepLR(opt, 1, gamma=0.9)\n",
    "\n",
    "trainer = THSWADTrainer(\n",
    "    margin=.5,\n",
    "    norm_lambda=.2,\n",
    "    clipping_max_value=5.,\n",
    "    model_target=.5,\n",
    "    kg_lambda=.1,\n",
    "    model=model,\n",
    "    optimizer=opt,\n",
    "    scheduler=scheduler,\n",
    "    train_data_loader=train_loader,\n",
    "    val_data_loader=train_loader,\n",
    "    test_data_loader=train_loader,\n",
    "    verbose=False,\n",
    ")"
   ]
  },
  {
   "cell_type": "code",
   "execution_count": 9,
   "metadata": {
    "cellId": "w2xlbtlzazdtj73hkge3np",
    "collapsed": false,
    "execution_id": "2b556693-5b16-44e9-beda-1f487c46c77c",
    "jupyter": {
     "outputs_hidden": false
    }
   },
   "outputs": [
    {
     "name": "stderr",
     "output_type": "stream",
     "text": [
      "Training:  16%|█▌        | 25360/160794 [03:27<18:27, 122.29it/s]\n"
     ]
    },
    {
     "ename": "KeyboardInterrupt",
     "evalue": "",
     "output_type": "error",
     "traceback": [
      "\u001b[0;31m---------------------------------------------------------------------------\u001b[0m",
      "\u001b[0;31mKeyboardInterrupt\u001b[0m                         Traceback (most recent call last)",
      "Cell \u001b[0;32mIn[9], line 2\u001b[0m\n\u001b[1;32m      1\u001b[0m \u001b[39m#!g1.1\u001b[39;00m\n\u001b[0;32m----> 2\u001b[0m trainer\u001b[39m.\u001b[39;49mtrain(\u001b[39m20\u001b[39;49m)\n",
      "File \u001b[0;32m~/dream-entity-recommendation/model_utils/trainer.py:69\u001b[0m, in \u001b[0;36mBaseTrainer.train\u001b[0;34m(self, epochs)\u001b[0m\n\u001b[1;32m     67\u001b[0m \u001b[39mdef\u001b[39;00m \u001b[39mtrain\u001b[39m(\u001b[39mself\u001b[39m, epochs):\n\u001b[1;32m     68\u001b[0m     \u001b[39mfor\u001b[39;00m epoch \u001b[39min\u001b[39;00m \u001b[39mrange\u001b[39m(epochs):\n\u001b[0;32m---> 69\u001b[0m         \u001b[39mself\u001b[39;49m\u001b[39m.\u001b[39;49mtrain_epoch(\u001b[39mself\u001b[39;49m\u001b[39m.\u001b[39;49mtrain_data_loader)\n\u001b[1;32m     70\u001b[0m         \u001b[39mif\u001b[39;00m \u001b[39mself\u001b[39m\u001b[39m.\u001b[39msave_path \u001b[39mand\u001b[39;00m epoch \u001b[39m%\u001b[39m \u001b[39mself\u001b[39m\u001b[39m.\u001b[39msave_interval \u001b[39m==\u001b[39m \u001b[39mself\u001b[39m\u001b[39m.\u001b[39msave_interval \u001b[39m-\u001b[39m \u001b[39m1\u001b[39m:\n\u001b[1;32m     71\u001b[0m             \u001b[39mself\u001b[39m\u001b[39m.\u001b[39msave_model(epoch)\n",
      "File \u001b[0;32m~/dream-entity-recommendation/model_utils/trainer.py:58\u001b[0m, in \u001b[0;36mBaseTrainer.train_epoch\u001b[0;34m(self, dataloader)\u001b[0m\n\u001b[1;32m     56\u001b[0m \u001b[39mself\u001b[39m\u001b[39m.\u001b[39moptimizer\u001b[39m.\u001b[39mzero_grad()\n\u001b[1;32m     57\u001b[0m batch \u001b[39m=\u001b[39m rec_to_gpu(batch)\n\u001b[0;32m---> 58\u001b[0m loss_dict \u001b[39m=\u001b[39m \u001b[39mself\u001b[39;49m\u001b[39m.\u001b[39;49m_train_step(batch_idx, batch)\n\u001b[1;32m     59\u001b[0m \u001b[39mself\u001b[39m\u001b[39m.\u001b[39moptimizer\u001b[39m.\u001b[39mstep()\n\u001b[1;32m     60\u001b[0m \u001b[39mself\u001b[39m\u001b[39m.\u001b[39mscheduler\u001b[39m.\u001b[39mstep()\n",
      "File \u001b[0;32m~/dream-entity-recommendation/model_utils/trainer.py:164\u001b[0m, in \u001b[0;36mTHSWADTrainer._train_step\u001b[0;34m(self, batch_idx, batch)\u001b[0m\n\u001b[1;32m    161\u001b[0m     losses \u001b[39m=\u001b[39m \u001b[39mself\u001b[39m\u001b[39m.\u001b[39mkg_lambda \u001b[39m*\u001b[39m losses\n\u001b[1;32m    163\u001b[0m \u001b[39m# Backward pass.\u001b[39;00m\n\u001b[0;32m--> 164\u001b[0m losses\u001b[39m.\u001b[39;49mbackward()\n\u001b[1;32m    166\u001b[0m \u001b[39m# Hard Gradient Clipping\u001b[39;00m\n\u001b[1;32m    167\u001b[0m nn\u001b[39m.\u001b[39mutils\u001b[39m.\u001b[39mclip_grad_norm_([param \u001b[39mfor\u001b[39;00m name, param \u001b[39min\u001b[39;00m \u001b[39mself\u001b[39m\u001b[39m.\u001b[39mmodel\u001b[39m.\u001b[39mnamed_parameters()], \u001b[39mself\u001b[39m\u001b[39m.\u001b[39mclipping_max_value)\n",
      "File \u001b[0;32m~/.local/lib/python3.8/site-packages/torch/tensor.py:221\u001b[0m, in \u001b[0;36mTensor.backward\u001b[0;34m(self, gradient, retain_graph, create_graph)\u001b[0m\n\u001b[1;32m    213\u001b[0m \u001b[39mif\u001b[39;00m \u001b[39mtype\u001b[39m(\u001b[39mself\u001b[39m) \u001b[39mis\u001b[39;00m \u001b[39mnot\u001b[39;00m Tensor \u001b[39mand\u001b[39;00m has_torch_function(relevant_args):\n\u001b[1;32m    214\u001b[0m     \u001b[39mreturn\u001b[39;00m handle_torch_function(\n\u001b[1;32m    215\u001b[0m         Tensor\u001b[39m.\u001b[39mbackward,\n\u001b[1;32m    216\u001b[0m         relevant_args,\n\u001b[0;32m   (...)\u001b[0m\n\u001b[1;32m    219\u001b[0m         retain_graph\u001b[39m=\u001b[39mretain_graph,\n\u001b[1;32m    220\u001b[0m         create_graph\u001b[39m=\u001b[39mcreate_graph)\n\u001b[0;32m--> 221\u001b[0m torch\u001b[39m.\u001b[39;49mautograd\u001b[39m.\u001b[39;49mbackward(\u001b[39mself\u001b[39;49m, gradient, retain_graph, create_graph)\n",
      "File \u001b[0;32m~/.local/lib/python3.8/site-packages/torch/autograd/__init__.py:130\u001b[0m, in \u001b[0;36mbackward\u001b[0;34m(tensors, grad_tensors, retain_graph, create_graph, grad_variables)\u001b[0m\n\u001b[1;32m    127\u001b[0m \u001b[39mif\u001b[39;00m retain_graph \u001b[39mis\u001b[39;00m \u001b[39mNone\u001b[39;00m:\n\u001b[1;32m    128\u001b[0m     retain_graph \u001b[39m=\u001b[39m create_graph\n\u001b[0;32m--> 130\u001b[0m Variable\u001b[39m.\u001b[39;49m_execution_engine\u001b[39m.\u001b[39;49mrun_backward(\n\u001b[1;32m    131\u001b[0m     tensors, grad_tensors_, retain_graph, create_graph,\n\u001b[1;32m    132\u001b[0m     allow_unreachable\u001b[39m=\u001b[39;49m\u001b[39mTrue\u001b[39;49;00m)\n",
      "\u001b[0;31mKeyboardInterrupt\u001b[0m: "
     ]
    }
   ],
   "source": [
    "#!g1.1\n",
    "trainer.train(20)"
   ]
  },
  {
   "cell_type": "code",
   "execution_count": 24,
   "metadata": {
    "cellId": "k64h5367ayj5800sypfo",
    "collapsed": false,
    "execution_id": "fc0a04cb-8a74-44fc-8d88-ca4a77486867",
    "jupyter": {
     "outputs_hidden": false
    }
   },
   "outputs": [
    {
     "name": "stderr",
     "output_type": "stream",
     "text": [
      "Validating:  99%|█████████▉| 158870/160794 [5:18:32<03:51,  8.31it/s]\n"
     ]
    },
    {
     "data": {
      "text/plain": [
       "{'accuracy': tensor(0.0033, device='cuda:0')}"
      ]
     },
     "execution_count": 24,
     "metadata": {},
     "output_type": "execute_result"
    }
   ],
   "source": [
    "#!g1.1\n",
    "BS = 32\n",
    "\n",
    "dl_v = DataLoader(ds, batch_size=BS, shuffle=False)\n",
    "wdl_v = DataLoader([], batch_size=BS, shuffle=False)\n",
    "val_loader = TSHWADLoader(wdl, dl)\n",
    "\n",
    "trainer.test(val_loader)"
   ]
  },
  {
   "cell_type": "code",
   "execution_count": null,
   "metadata": {
    "cellId": "slzgp6hpf5lhoanolm3okj"
   },
   "outputs": [],
   "source": [
    "#!g1.1\n",
    "model.prev_meaner"
   ]
  },
  {
   "cell_type": "code",
   "execution_count": null,
   "metadata": {
    "cellId": "jrjs3kb896tmw7wmbz9xi"
   },
   "outputs": [],
   "source": [
    "#!g1.1\n",
    "len(model.item2entity)"
   ]
  },
  {
   "cell_type": "code",
   "execution_count": 20,
   "metadata": {
    "cellId": "obgi9m3wt9isszuhrcuh6i"
   },
   "outputs": [],
   "source": [
    "#!g1.1\n",
    "! head -n 1000000 dataset/wikidata5m_transductive_train.txt > dataset/wikidata5m_transductive_train_head.txt"
   ]
  },
  {
   "cell_type": "code",
   "execution_count": null,
   "metadata": {
    "cellId": "teb5g3qhh3xmp0aznskpd"
   },
   "outputs": [],
   "source": [
    "#!g1.1\n"
   ]
  }
 ],
 "metadata": {
  "kernelspec": {
   "display_name": "Python 3",
   "language": "python",
   "name": "python3"
  },
  "language_info": {
   "codemirror_mode": {
    "name": "ipython",
    "version": 3
   },
   "file_extension": ".py",
   "mimetype": "text/x-python",
   "name": "python",
   "nbconvert_exporter": "python",
   "pygments_lexer": "ipython3",
   "version": "3.8.10"
  },
  "notebookId": "ef3fef9c-2c01-42dd-9341-dc23df0e9854",
  "notebookPath": "dream-entity-recommendation/analyze.ipynb"
 },
 "nbformat": 4,
 "nbformat_minor": 4
}
